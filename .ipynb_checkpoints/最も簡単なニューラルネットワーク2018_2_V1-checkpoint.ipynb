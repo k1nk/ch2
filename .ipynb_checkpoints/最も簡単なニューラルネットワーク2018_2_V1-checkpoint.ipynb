{
 "cells": [
  {
   "cell_type": "markdown",
   "metadata": {},
   "source": [
    "### 最も簡単なニューラルネットワーク\n",
    "最初に「Kernel」メニューから「Change kernel」で「chenv」を選択してください。"
   ]
  },
  {
   "cell_type": "markdown",
   "metadata": {},
   "source": [
    "セルを選択して、「Ctrl+Enter」でセルを実行できます。"
   ]
  },
  {
   "cell_type": "markdown",
   "metadata": {},
   "source": [
    "モジュールをインポートします。"
   ]
  },
  {
   "cell_type": "code",
   "execution_count": null,
   "metadata": {},
   "outputs": [],
   "source": [
    "import numpy as np\n",
    "import chainer.functions as F\n",
    "import chainer.links as L\n",
    "from chainer import Variable, optimizers"
   ]
  },
  {
   "cell_type": "markdown",
   "metadata": {},
   "source": [
    "モデルを定義します。"
   ]
  },
  {
   "cell_type": "code",
   "execution_count": null,
   "metadata": {},
   "outputs": [],
   "source": [
    "model = L.Linear(1,1)"
   ]
  },
  {
   "cell_type": "markdown",
   "metadata": {},
   "source": [
    "パラメータの最適化の方法を選択し、モデルと関連付けます。"
   ]
  },
  {
   "cell_type": "code",
   "execution_count": null,
   "metadata": {},
   "outputs": [],
   "source": [
    "optimizer = optimizers.SGD()\n",
    "optimizer.setup(model)"
   ]
  },
  {
   "cell_type": "markdown",
   "metadata": {},
   "source": [
    "学習のための入力データおよび答えとなるデータを作成します。"
   ]
  },
  {
   "cell_type": "code",
   "execution_count": null,
   "metadata": {},
   "outputs": [],
   "source": [
    "#入力するデータ[1]を作成します。\n",
    "x = Variable(np.array([[1]],dtype=np.float32))\n",
    "\n",
    "#答えとなるデータ[2]を作成します。\n",
    "t = Variable(np.array([[2]], dtype=np.float32))"
   ]
  },
  {
   "cell_type": "markdown",
   "metadata": {},
   "source": [
    "学習を行います。ここの部分が「学習ループ」になります。"
   ]
  },
  {
   "cell_type": "code",
   "execution_count": null,
   "metadata": {},
   "outputs": [],
   "source": [
    "#学習の回数を設定します。\n",
    "times = 50\n",
    "\n",
    "for i in range(0,times):\n",
    "    #モデルの勾配データを初期化します。\n",
    "    model.cleargrads()\n",
    "    #optimizer.zero_grads()\n",
    "\n",
    "    #予測します。\n",
    "    y = model(x)\n",
    "\n",
    "    #モデルの出力を表示します。\n",
    "    print(y.data)\n",
    "\n",
    "    #予測と答えとの誤差を計算します。\n",
    "    loss = F.mean_squared_error(y,t)\n",
    "\n",
    "    #誤差逆伝搬を行い、勾配を計算します。\n",
    "    loss.backward()\n",
    "\n",
    "    #パラメータの更新を行います。\n",
    "    optimizer.update()"
   ]
  },
  {
   "cell_type": "markdown",
   "metadata": {},
   "source": [
    "学習の結果得られたパラメータに基づいて予測を行います。"
   ]
  },
  {
   "cell_type": "code",
   "execution_count": null,
   "metadata": {},
   "outputs": [],
   "source": [
    "print \"result\"\n",
    "x = Variable(np.array([[3],[4],[5]], dtype=np.float32))\n",
    "y = model(x)\n",
    "print(y.data)"
   ]
  },
  {
   "cell_type": "markdown",
   "metadata": {},
   "source": [
    "うまく学習できているでしょうか？学習のためのデータを変えてみます。"
   ]
  },
  {
   "cell_type": "code",
   "execution_count": null,
   "metadata": {},
   "outputs": [],
   "source": [
    "#入力するデータ[1],[2],[7]を作成します。\n",
    "x = Variable(np.array([[1],[2],[7]],dtype=np.float32))\n",
    "\n",
    "#答えとなるデータ[2],[4],[14]を作成します。\n",
    "t = Variable(np.array([[2],[4],[14]], dtype=np.float32))"
   ]
  },
  {
   "cell_type": "markdown",
   "metadata": {},
   "source": [
    "再度学習ループを実行します。"
   ]
  },
  {
   "cell_type": "code",
   "execution_count": null,
   "metadata": {},
   "outputs": [],
   "source": [
    "#学習の回数を設定します。\n",
    "times = 50\n",
    "\n",
    "for i in range(0,times):\n",
    "    #モデルの勾配データを初期化します。\n",
    "    model.cleargrads()\n",
    "    #optimizer.zero_grads()\n",
    "\n",
    "    #予測します。\n",
    "    y = model(x)\n",
    "\n",
    "    #モデルの出力を表示します。\n",
    "    print(y.data)\n",
    "\n",
    "    #予測と答えとの誤差を計算します。\n",
    "    loss = F.mean_squared_error(y,t)\n",
    "\n",
    "    #誤差逆伝搬を行い、勾配を計算します。\n",
    "    loss.backward()\n",
    "\n",
    "    #パラメータの更新を行います。\n",
    "    optimizer.update()"
   ]
  },
  {
   "cell_type": "markdown",
   "metadata": {},
   "source": [
    "もう一度、予測を行ってみましょう。"
   ]
  },
  {
   "cell_type": "code",
   "execution_count": null,
   "metadata": {},
   "outputs": [],
   "source": [
    "print \"result\"\n",
    "x = Variable(np.array([[3],[4],[5]], dtype=np.float32))\n",
    "y = model(x)\n",
    "print(y.data)"
   ]
  },
  {
   "cell_type": "markdown",
   "metadata": {},
   "source": [
    "３，４，５の部分を別の数字に変更して、予測を行ってみましょう。うまく予測できるでしょうか"
   ]
  },
  {
   "cell_type": "markdown",
   "metadata": {},
   "source": [
    "次に、誤差逆伝搬の状況を確認してみましょう。"
   ]
  },
  {
   "cell_type": "markdown",
   "metadata": {},
   "source": [
    "ウエイトWの勾配は、現在与えられているデータのもとで、ウエイトを少し変化させたときに、その変化量に対する損失の変化量の割合を示します。誤差の逆伝搬により、その計算を行います。誤差の逆伝搬は、プログラムでは、loss.backward()で行います。その前後で、ウエイトWの勾配（model.W.grad）がどのように変化しているかを確認してみましょう。\n",
    "\n",
    "そして、勾配の計算の後に、optimizer.update()で、ウエイトWの更新を行います。ウエイトWの更新前と後で、ウエイトWがどのように変化しているか確認してみましょう。ウエイトWの勾配とウエイトWの増減とに関係性はみられるでしょうか。"
   ]
  },
  {
   "cell_type": "code",
   "execution_count": null,
   "metadata": {},
   "outputs": [],
   "source": [
    "#学習の回数を設定します。\n",
    "times = 50\n",
    "\n",
    "for i in range(0,times):\n",
    "    #モデルの勾配データを初期化します。\n",
    "    model.cleargrads()\n",
    "    #optimizer.zero_grads()\n",
    "\n",
    "    #予測します。\n",
    "    y = model(x)\n",
    "\n",
    "    #モデルの出力を表示します。\n",
    "    print(y.data)\n",
    "\n",
    "    #予測と答えとの誤差を計算します。\n",
    "    loss = F.mean_squared_error(y,t)\n",
    "\n",
    "    #誤差逆伝搬を行い、勾配を計算します。\n",
    "    print \"誤差逆伝搬前の勾配　model.W.grad :\", model.W.grad\n",
    "    loss.backward()\n",
    "    print \"誤差逆伝搬後の勾配　model.W.grad :\", model.W.grad\n",
    "    \n",
    "    #パラメータの更新を行います。\n",
    "    print \"更新前のウエイト　model.W.data :\", model.W.data\n",
    "    optimizer.update()\n",
    "    print \"更新後のウエイト　model.W.data :\", model.W.data"
   ]
  },
  {
   "cell_type": "markdown",
   "metadata": {},
   "source": [
    "ウエイトWがどのように変化しているか、視覚的に確認してみましょう。"
   ]
  },
  {
   "cell_type": "code",
   "execution_count": null,
   "metadata": {},
   "outputs": [],
   "source": [
    "# グラフ表示を行うため、グラフ表示用のモジュールmatplotlibをpltとして読み込みます。\n",
    "import matplotlib.pyplot as plt\n",
    "\n",
    "def plotmodel(model):   \n",
    "    x_for_plot = Variable(np.array([[1],[2],[7]],dtype=np.float32))   \n",
    "    y_for_plot = model(x_for_plot)    \n",
    "    #plt.plot(x_for_plot.data,y_for_plot.data,\"r-\")\n",
    "    plt.plot(x_for_plot.data,y_for_plot.data,marker='o',ls='-')\n",
    "    plt.xlabel(\"x\")\n",
    "    plt.ylabel(\"y\")\n",
    "\n",
    "    "
   ]
  },
  {
   "cell_type": "code",
   "execution_count": null,
   "metadata": {},
   "outputs": [],
   "source": [
    "import numpy as np\n",
    "import chainer.functions as F\n",
    "import chainer.links as L\n",
    "from chainer import Variable, optimizers\n",
    "\n",
    "#モデルを定義します。\n",
    "model = L.Linear(1,1)\n",
    "\n",
    "#パラメータの最適化の方法を選択し、モデルと関連付けます。\n",
    "optimizer = optimizers.SGD()\n",
    "optimizer.setup(model)\n",
    "\n",
    "#入力するデータ[1],[2],[7]を作成します。\n",
    "x = Variable(np.array([[1],[2],[7]],dtype=np.float32))\n",
    "\n",
    "#答えとなるデータ[2],[4],[14]を作成します。\n",
    "t = Variable(np.array([[2],[4],[14]], dtype=np.float32))\n",
    "\n",
    "#学習の回数を設定します。\n",
    "times = 50\n",
    "\n",
    "for i in range(0,times):\n",
    "    #モデルの勾配データを初期化します。\n",
    "    model.cleargrads()\n",
    "    #optimizer.zero_grads()\n",
    "\n",
    "    #予測します。\n",
    "    y = model(x)\n",
    "\n",
    "    #モデルの出力を表示します。\n",
    "    #print(y.data)\n",
    "\n",
    "    #予測と答えとの誤差を計算します。\n",
    "    loss = F.mean_squared_error(y,t)\n",
    "\n",
    "    #誤差逆伝搬を行い、勾配を計算します。\n",
    "    #print \"誤差逆伝搬前の勾配　model.W.grad :\", model.W.grad\n",
    "    loss.backward()\n",
    "    #print \"誤差逆伝搬後の勾配　model.W.grad :\", model.W.grad\n",
    "    \n",
    "    #パラメータの更新を行います。\n",
    "    #print \"更新前のウエイト　model.W.data :\", model.W.data\n",
    "    optimizer.update()\n",
    "    #print \"更新後のウエイト　model.W.data :\", model.W.data\n",
    "    \n",
    "    #モデルをグラフ表示します。\n",
    "    plotmodel(model)\n",
    "\n",
    "plt.show()"
   ]
  },
  {
   "cell_type": "markdown",
   "metadata": {},
   "source": [
    "xが[1,2,7]の場合、yが２倍の値のグラフに近づいていることがわかります。もう一度、学習データをxが[2]のみに戻してみましょう。"
   ]
  },
  {
   "cell_type": "code",
   "execution_count": null,
   "metadata": {},
   "outputs": [],
   "source": [
    "import numpy as np\n",
    "import chainer.functions as F\n",
    "import chainer.links as L\n",
    "from chainer import Variable, optimizers\n",
    "    \n",
    "#モデルを定義します。\n",
    "model = L.Linear(1,1)\n",
    "\n",
    "#パラメータの最適化の方法を選択し、モデルと関連付けます。\n",
    "optimizer = optimizers.SGD()\n",
    "optimizer.setup(model)\n",
    "\n",
    "#入力するデータ[1],[2],[7]を作成します。\n",
    "x = Variable(np.array([[2]],dtype=np.float32))\n",
    "\n",
    "#答えとなるデータ[2],[4],[14]を作成します。\n",
    "t = Variable(np.array([[4]], dtype=np.float32))\n",
    "\n",
    "#学習の回数を設定します。\n",
    "times = 50\n",
    "\n",
    "for i in range(0,times):\n",
    "    #モデルの勾配データを初期化します。\n",
    "    model.cleargrads()\n",
    "    #optimizer.zero_grads()\n",
    "\n",
    "    #予測します。\n",
    "    y = model(x)\n",
    "\n",
    "    #モデルの出力を表示します。\n",
    "    #print(y.data)\n",
    "\n",
    "    #予測と答えとの誤差を計算します。\n",
    "    loss = F.mean_squared_error(y,t)\n",
    "\n",
    "    #誤差逆伝搬を行い、勾配を計算します。\n",
    "    #print \"誤差逆伝搬前の勾配　model.W.grad :\", model.W.grad\n",
    "    loss.backward()\n",
    "    #print \"誤差逆伝搬後の勾配　model.W.grad :\", model.W.grad\n",
    "    \n",
    "    #パラメータの更新を行います。\n",
    "    #print \"更新前のウエイト　model.W.data :\", model.W.data\n",
    "    optimizer.update()\n",
    "    #print \"更新後のウエイト　model.W.data :\", model.W.data\n",
    "    \n",
    "    #モデルをグラフ表示します。\n",
    "    plotmodel(model)\n",
    "\n",
    "plt.show()"
   ]
  },
  {
   "cell_type": "markdown",
   "metadata": {},
   "source": [
    "何回か実行してみるとわかりますが、パラメータの初期条件により最終的な学習結果が変わり、うまく学習できない場合が多いことがわかります。\n",
    "\n",
    "今回は、モデルのバラメータの数は非常に少ないですが、それでもモデルのパラメータと比較して学習データが少ないと、うまく学習が進まないことがわかります。\n",
    "\n",
    "モデルのパラメータの数が多くなると、それだけ、多くの学習データが必要となります。"
   ]
  },
  {
   "cell_type": "markdown",
   "metadata": {},
   "source": [
    "以下が今回のプログラム全体となります。Spyderで実行してみましょう。"
   ]
  },
  {
   "cell_type": "code",
   "execution_count": null,
   "metadata": {},
   "outputs": [],
   "source": [
    "import numpy as np\n",
    "import chainer.functions as F\n",
    "import chainer.links as L\n",
    "from chainer import Variable, optimizers\n",
    "\n",
    "# グラフ表示を行うため、グラフ表示用のモジュールmatplotlibをpltとして読み込みます。\n",
    "import matplotlib.pyplot as plt\n",
    "\n",
    "def plotmodel(model):   \n",
    "    x_for_plot = Variable(np.array([[1],[2],[7]],dtype=np.float32))   \n",
    "    y_for_plot = model(x_for_plot)    \n",
    "    #plt.plot(x_for_plot.data,y_for_plot.data,\"r-\")\n",
    "    plt.plot(x_for_plot.data,y_for_plot.data,marker='o',ls='-')\n",
    "    plt.xlabel(\"x\")\n",
    "    plt.ylabel(\"y\")\n",
    "    \n",
    "#モデルを定義します。\n",
    "model = L.Linear(1,1)\n",
    "\n",
    "#パラメータの最適化の方法を選択し、モデルと関連付けます。\n",
    "optimizer = optimizers.SGD()\n",
    "optimizer.setup(model)\n",
    "\n",
    "#入力するデータ[1],[2],[7]を作成します。\n",
    "x = Variable(np.array([[1],[2],[7]],dtype=np.float32))\n",
    "\n",
    "#答えとなるデータ[2],[4],[14]を作成します。\n",
    "t = Variable(np.array([[2],[4],[14]], dtype=np.float32))\n",
    "\n",
    "#学習の回数を設定します。\n",
    "times = 50\n",
    "\n",
    "for i in range(0,times):\n",
    "    #モデルの勾配データを初期化します。\n",
    "    model.cleargrads()\n",
    "    #optimizer.zero_grads()\n",
    "\n",
    "    #予測します。\n",
    "    y = model(x)\n",
    "\n",
    "    #モデルの出力を表示します。\n",
    "    #print(y.data)\n",
    "\n",
    "    #予測と答えとの誤差を計算します。\n",
    "    loss = F.mean_squared_error(y,t)\n",
    "\n",
    "    #誤差逆伝搬を行い、勾配を計算します。\n",
    "    #print \"誤差逆伝搬前の勾配　model.W.grad :\", model.W.grad\n",
    "    loss.backward()\n",
    "    #print \"誤差逆伝搬後の勾配　model.W.grad :\", model.W.grad\n",
    "    \n",
    "    #パラメータの更新を行います。\n",
    "    #print \"更新前のウエイト　model.W.data :\", model.W.data\n",
    "    optimizer.update()\n",
    "    #print \"更新後のウエイト　model.W.data :\", model.W.data\n",
    "    \n",
    "    #モデルをグラフ表示します。\n",
    "    plotmodel(model)\n",
    "\n",
    "plt.show()"
   ]
  },
  {
   "cell_type": "code",
   "execution_count": null,
   "metadata": {},
   "outputs": [],
   "source": []
  }
 ],
 "metadata": {
  "kernelspec": {
   "display_name": "chenv",
   "language": "python",
   "name": "chenv"
  },
  "language_info": {
   "codemirror_mode": {
    "name": "ipython",
    "version": 2
   },
   "file_extension": ".py",
   "mimetype": "text/x-python",
   "name": "python",
   "nbconvert_exporter": "python",
   "pygments_lexer": "ipython2",
   "version": "2.7.15"
  }
 },
 "nbformat": 4,
 "nbformat_minor": 2
}
